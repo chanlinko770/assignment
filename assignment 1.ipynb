{
 "cells": [
  {
   "cell_type": "code",
   "execution_count": 4,
   "id": "1a871914-1dae-41bc-884b-95226b3764b5",
   "metadata": {},
   "outputs": [
    {
     "name": "stdin",
     "output_type": "stream",
     "text": [
      "Enter a string:  1t;AWfs3254\n"
     ]
    },
    {
     "name": "stdout",
     "output_type": "stream",
     "text": [
      "Result: tawfs\n"
     ]
    }
   ],
   "source": [
    "user_input = input(\"Enter a string: \")\n",
    "result = \"\"\n",
    "for char in user_input:\n",
    "    if char.isalpha():\n",
    "        result += char.lower()\n",
    "print(\"Result:\", result)"
   ]
  },
  {
   "cell_type": "code",
   "execution_count": 6,
   "id": "500e7f71-a3be-4d9b-afd9-de484d28d8f6",
   "metadata": {},
   "outputs": [
    {
     "name": "stdin",
     "output_type": "stream",
     "text": [
      "Enter a number:  4\n"
     ]
    },
    {
     "name": "stdout",
     "output_type": "stream",
     "text": [
      "4 is not a hodder number.\n"
     ]
    }
   ],
   "source": [
    "num = int(input(\"Enter a number: \"))\n",
    "\n",
    "is_prime = True\n",
    "if num <= 1:\n",
    "    is_prime = False\n",
    "else:\n",
    "    for i in range(2, num//2 + 1):\n",
    "        if num % i == 0:\n",
    "            is_prime = False\n",
    "            break\n",
    "\n",
    "is_hodder = False\n",
    "if is_prime:\n",
    "    j = 1\n",
    "    while 2**j - 1 <= num:\n",
    "        if 2**j - 1 == num:\n",
    "            is_hodder = True\n",
    "            break\n",
    "        j += 1\n",
    "\n",
    "if is_hodder:\n",
    "    print(num, \"is a hodder number.\")\n",
    "else:\n",
    "    print(num, \"is not a hodder number.\")"
   ]
  },
  {
   "cell_type": "code",
   "execution_count": null,
   "id": "0e7aaf3c-222a-4616-8aa1-f9c5183bc3c9",
   "metadata": {},
   "outputs": [],
   "source": []
  }
 ],
 "metadata": {
  "kernelspec": {
   "display_name": "ds1",
   "language": "python",
   "name": "ds1"
  },
  "language_info": {
   "codemirror_mode": {
    "name": "ipython",
    "version": 3
   },
   "file_extension": ".py",
   "mimetype": "text/x-python",
   "name": "python",
   "nbconvert_exporter": "python",
   "pygments_lexer": "ipython3",
   "version": "3.13.4"
  }
 },
 "nbformat": 4,
 "nbformat_minor": 5
}
