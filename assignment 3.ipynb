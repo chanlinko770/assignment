{
 "cells": [
  {
   "cell_type": "code",
   "execution_count": 1,
   "id": "3d08cd9e-6a39-4d00-a128-daa7c416950c",
   "metadata": {},
   "outputs": [
    {
     "name": "stdout",
     "output_type": "stream",
     "text": [
      "Requirement already satisfied: numpy in /opt/anaconda3/envs/ds1/lib/python3.13/site-packages (2.3.0)\n"
     ]
    }
   ],
   "source": [
    "!pip install numpy"
   ]
  },
  {
   "cell_type": "code",
   "execution_count": 6,
   "id": "43fb2bbc-8eef-4730-b7bd-71b333784a65",
   "metadata": {},
   "outputs": [
    {
     "name": "stdout",
     "output_type": "stream",
     "text": [
      "Requirement already satisfied: pandas in /opt/anaconda3/envs/ds1/lib/python3.13/site-packages (2.3.0)\n",
      "Requirement already satisfied: numpy>=1.26.0 in /opt/anaconda3/envs/ds1/lib/python3.13/site-packages (from pandas) (2.3.0)\n",
      "Requirement already satisfied: python-dateutil>=2.8.2 in /opt/anaconda3/envs/ds1/lib/python3.13/site-packages (from pandas) (2.9.0.post0)\n",
      "Requirement already satisfied: pytz>=2020.1 in /opt/anaconda3/envs/ds1/lib/python3.13/site-packages (from pandas) (2025.2)\n",
      "Requirement already satisfied: tzdata>=2022.7 in /opt/anaconda3/envs/ds1/lib/python3.13/site-packages (from pandas) (2025.2)\n",
      "Requirement already satisfied: six>=1.5 in /opt/anaconda3/envs/ds1/lib/python3.13/site-packages (from python-dateutil>=2.8.2->pandas) (1.17.0)\n"
     ]
    }
   ],
   "source": [
    "!pip install pandas"
   ]
  },
  {
   "cell_type": "code",
   "execution_count": 14,
   "id": "0c65ffc5-8666-49c0-904a-5ada1876e9ec",
   "metadata": {},
   "outputs": [],
   "source": [
    "#Question a\n",
    "import numpy as np\n",
    "hospital = np.array(['KKH', 'TTH', 'SCH','CCH'])\n",
    "beds = np.array([[ 20, 30, 50, 10],[ 10, 100, 200, 30],[ 30, 120, 220, 30],[ 0, 220, 320, 40]])"
   ]
  },
  {
   "cell_type": "code",
   "execution_count": 15,
   "id": "b6786941-7c47-4058-89f6-9365dc583b8c",
   "metadata": {},
   "outputs": [
    {
     "name": "stdout",
     "output_type": "stream",
     "text": [
      "Beds info for SCH: [[ 30 120 220  30]]\n"
     ]
    }
   ],
   "source": [
    "#a(i)\n",
    "index_1 = np.where(hospital == 'SCH')\n",
    "\n",
    "beds_1 = beds[index_1]\n",
    "print(\"Beds info for SCH:\", beds_1)"
   ]
  },
  {
   "cell_type": "code",
   "execution_count": 16,
   "id": "c3837e3e-85ad-4c7b-a461-d02391da928e",
   "metadata": {},
   "outputs": [
    {
     "name": "stdout",
     "output_type": "stream",
     "text": [
      "Emergency Ward beds for all hospitals: [10 30 30 40]\n"
     ]
    }
   ],
   "source": [
    "#a(ii)\n",
    "emergency_ward_beds = beds[:, -1]\n",
    "print(\"Emergency Ward beds for all hospitals:\", emergency_ward_beds)"
   ]
  },
  {
   "cell_type": "code",
   "execution_count": 17,
   "id": "1ca86eff-14be-4c8f-8cf5-819477140f76",
   "metadata": {},
   "outputs": [
    {
     "name": "stdout",
     "output_type": "stream",
     "text": [
      "Average beds per ward type: [ 15.  117.5 197.5  27.5]\n"
     ]
    }
   ],
   "source": [
    "#a(iii)\n",
    "average_beds_per_ward = np.mean(beds, axis=0)\n",
    "print(\"Average beds per ward type:\", average_beds_per_ward)"
   ]
  },
  {
   "cell_type": "code",
   "execution_count": 18,
   "id": "bfa183f1-e11a-42d4-a277-cb4bed17f43e",
   "metadata": {},
   "outputs": [
    {
     "name": "stdout",
     "output_type": "stream",
     "text": [
      "Hospital with highest Emergency Ward beds: CCH\n"
     ]
    }
   ],
   "source": [
    "#a(iv)\n",
    "max_emergency_index = np.argmax(beds[:, -1])\n",
    "\n",
    "hospital_with_max_emergency = hospital[max_emergency_index]\n",
    "print(\"Hospital with highest Emergency Ward beds:\", hospital_with_max_emergency)"
   ]
  },
  {
   "cell_type": "code",
   "execution_count": 19,
   "id": "6ed4530a-91e9-46a3-bf83-73a2062faf07",
   "metadata": {},
   "outputs": [
    {
     "name": "stdout",
     "output_type": "stream",
     "text": [
      "Average Ward A admissions for each hospital: [ 6.  3.  3. 12.]\n"
     ]
    }
   ],
   "source": [
    "#a(v)\n",
    "day1_admission = np.array([4, 3, 2, 14])\n",
    "day2_admission = np.array([8, 3, 4, 10])\n",
    " \n",
    "ward_a_day1 = day1_admission\n",
    "ward_a_day2 = day2_admission\n",
    "\n",
    "average_ward_a_admission = (ward_a_day1 + ward_a_day2) / 2\n",
    "print(\"Average Ward A admissions for each hospital:\", average_ward_a_admission)"
   ]
  },
  {
   "cell_type": "code",
   "execution_count": 20,
   "id": "1b1340ec-be04-4f9c-89d9-173f7b082991",
   "metadata": {},
   "outputs": [
    {
     "name": "stdout",
     "output_type": "stream",
     "text": [
      "Overall average Ward A admission: 6.0\n"
     ]
    }
   ],
   "source": [
    "overall_average_ward_a = np.mean(average_ward_a_admission)\n",
    "print(\"Overall average Ward A admission:\", overall_average_ward_a)"
   ]
  },
  {
   "cell_type": "code",
   "execution_count": 21,
   "id": "0dcdf2b9-ceb9-46aa-8a34-834e08bc09e5",
   "metadata": {},
   "outputs": [],
   "source": [
    "#Question b\n",
    "import numpy as np\n",
    "hospitals = np.array(['CCH', 'SCH', 'TTH'])\n",
    "admissions = np.array([[151, 262, 253]])"
   ]
  },
  {
   "cell_type": "code",
   "execution_count": 23,
   "id": "502871b0-d431-42f0-af46-9aae3f513235",
   "metadata": {},
   "outputs": [
    {
     "data": {
      "text/plain": [
       "array([1, 2, 0])"
      ]
     },
     "execution_count": 23,
     "metadata": {},
     "output_type": "execute_result"
    }
   ],
   "source": [
    "sorted_indices = np.argsort(admissions[0])[::-1]\n",
    "sorted_indices"
   ]
  },
  {
   "cell_type": "code",
   "execution_count": 25,
   "id": "0bd1b666-7f44-476b-973d-ab975f11d67d",
   "metadata": {},
   "outputs": [
    {
     "name": "stdout",
     "output_type": "stream",
     "text": [
      "Sorted hospitals by admissions (desc): ['SCH' 'TTH' 'CCH']\n",
      "Sorted admissions: [262 253 151]\n"
     ]
    }
   ],
   "source": [
    "sorted_hospitals = hospitals[sorted_indices]\n",
    "sorted_admissions = admissions[0][sorted_indices]\n",
    "\n",
    "print(\"Sorted hospitals by admissions (desc):\", sorted_hospitals)\n",
    "print(\"Sorted admissions:\", sorted_admissions)"
   ]
  },
  {
   "cell_type": "code",
   "execution_count": null,
   "id": "40f9bd11-df31-4b4e-bd8c-3c0fe339fa74",
   "metadata": {},
   "outputs": [],
   "source": []
  }
 ],
 "metadata": {
  "kernelspec": {
   "display_name": "ds1",
   "language": "python",
   "name": "ds1"
  },
  "language_info": {
   "codemirror_mode": {
    "name": "ipython",
    "version": 3
   },
   "file_extension": ".py",
   "mimetype": "text/x-python",
   "name": "python",
   "nbconvert_exporter": "python",
   "pygments_lexer": "ipython3",
   "version": "3.13.4"
  }
 },
 "nbformat": 4,
 "nbformat_minor": 5
}
