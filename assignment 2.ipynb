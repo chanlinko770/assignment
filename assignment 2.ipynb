{
 "cells": [
  {
   "cell_type": "code",
   "execution_count": 1,
   "id": "0fa02739-ff87-4446-bd03-9fe22f5d6f25",
   "metadata": {},
   "outputs": [
    {
     "name": "stdout",
     "output_type": "stream",
     "text": [
      "1\n",
      "2\n",
      "9\n",
      "-1\n",
      "0\n"
     ]
    }
   ],
   "source": [
    "def function8(list2: list):\n",
    "    return max(set(list2), key=list2.count)\n",
    "print(function8([1, 2, 3, 1])) # 1 (because 1 appears most frequently)\n",
    "print(function8([1, 2, 3, 3, 2, 2])) # 2 (because 2 appears most frequently)\n",
    "print(function8([9])) # 9 (because 9 appears most frequently)\n",
    "print(function8([-1, 1, -1])) # -1 (because -1 appears most frequently)\n",
    "print(function8([0, 0, 1, 1, 0, 0])) # 0 (because 0 appears most frequently)"
   ]
  },
  {
   "cell_type": "code",
   "execution_count": null,
   "id": "24b068dc-ada9-427f-9762-e6a2cadba369",
   "metadata": {},
   "outputs": [],
   "source": []
  }
 ],
 "metadata": {
  "kernelspec": {
   "display_name": "ds1",
   "language": "python",
   "name": "ds1"
  },
  "language_info": {
   "codemirror_mode": {
    "name": "ipython",
    "version": 3
   },
   "file_extension": ".py",
   "mimetype": "text/x-python",
   "name": "python",
   "nbconvert_exporter": "python",
   "pygments_lexer": "ipython3",
   "version": "3.13.4"
  }
 },
 "nbformat": 4,
 "nbformat_minor": 5
}
